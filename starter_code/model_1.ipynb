{
 "cells": [
  {
   "cell_type": "code",
   "execution_count": 1,
   "metadata": {},
   "outputs": [
    {
     "output_type": "stream",
     "name": "stdout",
     "text": "Requirement already up-to-date: sklearn in c:\\users\\jaime\\anaconda3\\lib\\site-packages (0.0)\nRequirement already satisfied, skipping upgrade: scikit-learn in c:\\users\\jaime\\anaconda3\\lib\\site-packages (from sklearn) (0.21.3)\nRequirement already satisfied, skipping upgrade: numpy>=1.11.0 in c:\\users\\jaime\\anaconda3\\lib\\site-packages (from scikit-learn->sklearn) (1.18.4)\nRequirement already satisfied, skipping upgrade: scipy>=0.17.0 in c:\\users\\jaime\\anaconda3\\lib\\site-packages (from scikit-learn->sklearn) (1.4.1)\nRequirement already satisfied, skipping upgrade: joblib>=0.11 in c:\\users\\jaime\\anaconda3\\lib\\site-packages (from scikit-learn->sklearn) (0.13.2)\n"
    }
   ],
   "source": [
    "# Update sklearn to prevent version mismatches\n",
    "!pip install sklearn --upgrade"
   ]
  },
  {
   "cell_type": "code",
   "execution_count": 2,
   "metadata": {},
   "outputs": [
    {
     "output_type": "stream",
     "name": "stdout",
     "text": "Requirement already satisfied: joblib in c:\\users\\jaime\\anaconda3\\lib\\site-packages (0.13.2)\n"
    }
   ],
   "source": [
    "# install joblib. This will be used to save your model. \n",
    "# Restart your kernel after installing \n",
    "!pip install joblib"
   ]
  },
  {
   "cell_type": "code",
   "execution_count": 2,
   "metadata": {},
   "outputs": [],
   "source": [
    "import pandas as pd"
   ]
  },
  {
   "cell_type": "markdown",
   "metadata": {},
   "source": [
    "## Read the CSV and Perform Basic Data Cleaning"
   ]
  },
  {
   "cell_type": "code",
   "execution_count": 3,
   "metadata": {},
   "outputs": [
    {
     "output_type": "execute_result",
     "data": {
      "text/plain": "  koi_disposition  koi_fpflag_nt  koi_fpflag_ss  koi_fpflag_co  koi_fpflag_ec  \\\n0       CONFIRMED              0              0              0              0   \n1  FALSE POSITIVE              0              1              0              0   \n2  FALSE POSITIVE              0              1              0              0   \n3       CONFIRMED              0              0              0              0   \n4       CONFIRMED              0              0              0              0   \n\n   koi_period  koi_period_err1  koi_period_err2  koi_time0bk  \\\n0   54.418383     2.479000e-04    -2.479000e-04   162.513840   \n1   19.899140     1.490000e-05    -1.490000e-05   175.850252   \n2    1.736952     2.630000e-07    -2.630000e-07   170.307565   \n3    2.525592     3.760000e-06    -3.760000e-06   171.595550   \n4    4.134435     1.050000e-05    -1.050000e-05   172.979370   \n\n   koi_time0bk_err1  ...  koi_steff_err2  koi_slogg  koi_slogg_err1  \\\n0          0.003520  ...             -81      4.467           0.064   \n1          0.000581  ...            -176      4.544           0.044   \n2          0.000115  ...            -174      4.564           0.053   \n3          0.001130  ...            -211      4.438           0.070   \n4          0.001900  ...            -232      4.486           0.054   \n\n   koi_slogg_err2  koi_srad  koi_srad_err1  koi_srad_err2         ra  \\\n0          -0.096     0.927          0.105         -0.061  291.93423   \n1          -0.176     0.868          0.233         -0.078  297.00482   \n2          -0.168     0.791          0.201         -0.067  285.53461   \n3          -0.210     1.046          0.334         -0.133  288.75488   \n4          -0.229     0.972          0.315         -0.105  296.28613   \n\n         dec  koi_kepmag  \n0  48.141651      15.347  \n1  48.134129      15.436  \n2  48.285210      15.597  \n3  48.226200      15.509  \n4  48.224670      15.714  \n\n[5 rows x 41 columns]",
      "text/html": "<div>\n<style scoped>\n    .dataframe tbody tr th:only-of-type {\n        vertical-align: middle;\n    }\n\n    .dataframe tbody tr th {\n        vertical-align: top;\n    }\n\n    .dataframe thead th {\n        text-align: right;\n    }\n</style>\n<table border=\"1\" class=\"dataframe\">\n  <thead>\n    <tr style=\"text-align: right;\">\n      <th></th>\n      <th>koi_disposition</th>\n      <th>koi_fpflag_nt</th>\n      <th>koi_fpflag_ss</th>\n      <th>koi_fpflag_co</th>\n      <th>koi_fpflag_ec</th>\n      <th>koi_period</th>\n      <th>koi_period_err1</th>\n      <th>koi_period_err2</th>\n      <th>koi_time0bk</th>\n      <th>koi_time0bk_err1</th>\n      <th>...</th>\n      <th>koi_steff_err2</th>\n      <th>koi_slogg</th>\n      <th>koi_slogg_err1</th>\n      <th>koi_slogg_err2</th>\n      <th>koi_srad</th>\n      <th>koi_srad_err1</th>\n      <th>koi_srad_err2</th>\n      <th>ra</th>\n      <th>dec</th>\n      <th>koi_kepmag</th>\n    </tr>\n  </thead>\n  <tbody>\n    <tr>\n      <td>0</td>\n      <td>CONFIRMED</td>\n      <td>0</td>\n      <td>0</td>\n      <td>0</td>\n      <td>0</td>\n      <td>54.418383</td>\n      <td>2.479000e-04</td>\n      <td>-2.479000e-04</td>\n      <td>162.513840</td>\n      <td>0.003520</td>\n      <td>...</td>\n      <td>-81</td>\n      <td>4.467</td>\n      <td>0.064</td>\n      <td>-0.096</td>\n      <td>0.927</td>\n      <td>0.105</td>\n      <td>-0.061</td>\n      <td>291.93423</td>\n      <td>48.141651</td>\n      <td>15.347</td>\n    </tr>\n    <tr>\n      <td>1</td>\n      <td>FALSE POSITIVE</td>\n      <td>0</td>\n      <td>1</td>\n      <td>0</td>\n      <td>0</td>\n      <td>19.899140</td>\n      <td>1.490000e-05</td>\n      <td>-1.490000e-05</td>\n      <td>175.850252</td>\n      <td>0.000581</td>\n      <td>...</td>\n      <td>-176</td>\n      <td>4.544</td>\n      <td>0.044</td>\n      <td>-0.176</td>\n      <td>0.868</td>\n      <td>0.233</td>\n      <td>-0.078</td>\n      <td>297.00482</td>\n      <td>48.134129</td>\n      <td>15.436</td>\n    </tr>\n    <tr>\n      <td>2</td>\n      <td>FALSE POSITIVE</td>\n      <td>0</td>\n      <td>1</td>\n      <td>0</td>\n      <td>0</td>\n      <td>1.736952</td>\n      <td>2.630000e-07</td>\n      <td>-2.630000e-07</td>\n      <td>170.307565</td>\n      <td>0.000115</td>\n      <td>...</td>\n      <td>-174</td>\n      <td>4.564</td>\n      <td>0.053</td>\n      <td>-0.168</td>\n      <td>0.791</td>\n      <td>0.201</td>\n      <td>-0.067</td>\n      <td>285.53461</td>\n      <td>48.285210</td>\n      <td>15.597</td>\n    </tr>\n    <tr>\n      <td>3</td>\n      <td>CONFIRMED</td>\n      <td>0</td>\n      <td>0</td>\n      <td>0</td>\n      <td>0</td>\n      <td>2.525592</td>\n      <td>3.760000e-06</td>\n      <td>-3.760000e-06</td>\n      <td>171.595550</td>\n      <td>0.001130</td>\n      <td>...</td>\n      <td>-211</td>\n      <td>4.438</td>\n      <td>0.070</td>\n      <td>-0.210</td>\n      <td>1.046</td>\n      <td>0.334</td>\n      <td>-0.133</td>\n      <td>288.75488</td>\n      <td>48.226200</td>\n      <td>15.509</td>\n    </tr>\n    <tr>\n      <td>4</td>\n      <td>CONFIRMED</td>\n      <td>0</td>\n      <td>0</td>\n      <td>0</td>\n      <td>0</td>\n      <td>4.134435</td>\n      <td>1.050000e-05</td>\n      <td>-1.050000e-05</td>\n      <td>172.979370</td>\n      <td>0.001900</td>\n      <td>...</td>\n      <td>-232</td>\n      <td>4.486</td>\n      <td>0.054</td>\n      <td>-0.229</td>\n      <td>0.972</td>\n      <td>0.315</td>\n      <td>-0.105</td>\n      <td>296.28613</td>\n      <td>48.224670</td>\n      <td>15.714</td>\n    </tr>\n  </tbody>\n</table>\n<p>5 rows × 41 columns</p>\n</div>"
     },
     "metadata": {},
     "execution_count": 3
    }
   ],
   "source": [
    "df = pd.read_csv(\"exoplanet_data.csv\")\n",
    "# Drop the null columns where all values are null\n",
    "df = df.dropna(axis='columns', how='all')\n",
    "# Drop the null rows\n",
    "df = df.dropna()\n",
    "df.head()"
   ]
  },
  {
   "cell_type": "markdown",
   "metadata": {},
   "source": [
    "# Select your features (columns)"
   ]
  },
  {
   "cell_type": "code",
   "execution_count": 4,
   "metadata": {},
   "outputs": [],
   "source": [
    "# Set features. This will also be used as your x values.\n",
    "selected_features = df[[\"koi_period\",\n",
    "                        \"koi_time0bk\",\n",
    "                        \"koi_impact\",\n",
    "                        \"koi_duration\",\n",
    "                        \"koi_depth\",\n",
    "                        \"koi_prad\",\n",
    "                        \"koi_teq\",\n",
    "                        \"koi_insol\",\n",
    "                        \"koi_model_snr\",\n",
    "                        \"koi_steff\",\n",
    "                        \"koi_slogg\",\n",
    "                        \"koi_srad\",\n",
    "                        \"koi_kepmag\"]]"
   ]
  },
  {
   "cell_type": "code",
   "execution_count": 8,
   "metadata": {},
   "outputs": [
    {
     "output_type": "execute_result",
     "data": {
      "text/plain": "0         CONFIRMED\n1    FALSE POSITIVE\n2    FALSE POSITIVE\n3         CONFIRMED\n4         CONFIRMED\nName: koi_disposition, dtype: object"
     },
     "metadata": {},
     "execution_count": 8
    }
   ],
   "source": [
    "target = df[\"koi_disposition\"]\n",
    "target.head()"
   ]
  },
  {
   "cell_type": "code",
   "execution_count": 9,
   "metadata": {},
   "outputs": [
    {
     "output_type": "execute_result",
     "data": {
      "text/plain": "0    1\n1    0\n2    0\n3    1\n4    1\nName: koi_disposition, dtype: int64"
     },
     "metadata": {},
     "execution_count": 9
    }
   ],
   "source": [
    "# Encode outputs\n",
    "target = target.replace(to_replace = [\"CONFIRMED\", \"CANDIDATE\", \"FALSE POSITIVE\"], value = [1, 0, 0])\n",
    "target.head()"
   ]
  },
  {
   "cell_type": "markdown",
   "metadata": {},
   "source": [
    "# Create a Train Test Split\n",
    "\n",
    "Use `koi_disposition` for the y values"
   ]
  },
  {
   "cell_type": "code",
   "execution_count": 10,
   "metadata": {},
   "outputs": [],
   "source": [
    "from sklearn.model_selection import train_test_split\n",
    "X_train, X_test, y_train, y_test = train_test_split(selected_features, target, random_state=42)"
   ]
  },
  {
   "cell_type": "code",
   "execution_count": 11,
   "metadata": {},
   "outputs": [
    {
     "output_type": "execute_result",
     "data": {
      "text/plain": "      koi_period  koi_time0bk  koi_impact  koi_duration  koi_depth  koi_prad  \\\n6122    6.768901   133.077240       0.150       3.61600      123.1      1.24   \n6370    0.733726   132.020050       0.291       2.30900      114.6      0.86   \n2879    7.652707   134.460380       0.970      79.89690      641.1      3.21   \n107     7.953547   174.662240       0.300       2.63120      875.4      2.25   \n29      4.959319   172.258529       0.831       2.22739     9802.0     12.21   \n\n      koi_teq  koi_insol  koi_model_snr  koi_steff  koi_slogg  koi_srad  \\\n6122     1017     253.30           10.8       5737      4.327     1.125   \n6370     1867    2891.64           13.8       5855      4.578     0.797   \n2879      989     226.81          254.3       6328      4.481     0.963   \n107       696      55.37           38.4       4768      4.536     0.779   \n29       1103     349.40          696.5       5712      4.359     1.082   \n\n      koi_kepmag  \n6122      14.725  \n6370      15.770  \n2879      13.099  \n107       15.660  \n29        15.263  ",
      "text/html": "<div>\n<style scoped>\n    .dataframe tbody tr th:only-of-type {\n        vertical-align: middle;\n    }\n\n    .dataframe tbody tr th {\n        vertical-align: top;\n    }\n\n    .dataframe thead th {\n        text-align: right;\n    }\n</style>\n<table border=\"1\" class=\"dataframe\">\n  <thead>\n    <tr style=\"text-align: right;\">\n      <th></th>\n      <th>koi_period</th>\n      <th>koi_time0bk</th>\n      <th>koi_impact</th>\n      <th>koi_duration</th>\n      <th>koi_depth</th>\n      <th>koi_prad</th>\n      <th>koi_teq</th>\n      <th>koi_insol</th>\n      <th>koi_model_snr</th>\n      <th>koi_steff</th>\n      <th>koi_slogg</th>\n      <th>koi_srad</th>\n      <th>koi_kepmag</th>\n    </tr>\n  </thead>\n  <tbody>\n    <tr>\n      <td>6122</td>\n      <td>6.768901</td>\n      <td>133.077240</td>\n      <td>0.150</td>\n      <td>3.61600</td>\n      <td>123.1</td>\n      <td>1.24</td>\n      <td>1017</td>\n      <td>253.30</td>\n      <td>10.8</td>\n      <td>5737</td>\n      <td>4.327</td>\n      <td>1.125</td>\n      <td>14.725</td>\n    </tr>\n    <tr>\n      <td>6370</td>\n      <td>0.733726</td>\n      <td>132.020050</td>\n      <td>0.291</td>\n      <td>2.30900</td>\n      <td>114.6</td>\n      <td>0.86</td>\n      <td>1867</td>\n      <td>2891.64</td>\n      <td>13.8</td>\n      <td>5855</td>\n      <td>4.578</td>\n      <td>0.797</td>\n      <td>15.770</td>\n    </tr>\n    <tr>\n      <td>2879</td>\n      <td>7.652707</td>\n      <td>134.460380</td>\n      <td>0.970</td>\n      <td>79.89690</td>\n      <td>641.1</td>\n      <td>3.21</td>\n      <td>989</td>\n      <td>226.81</td>\n      <td>254.3</td>\n      <td>6328</td>\n      <td>4.481</td>\n      <td>0.963</td>\n      <td>13.099</td>\n    </tr>\n    <tr>\n      <td>107</td>\n      <td>7.953547</td>\n      <td>174.662240</td>\n      <td>0.300</td>\n      <td>2.63120</td>\n      <td>875.4</td>\n      <td>2.25</td>\n      <td>696</td>\n      <td>55.37</td>\n      <td>38.4</td>\n      <td>4768</td>\n      <td>4.536</td>\n      <td>0.779</td>\n      <td>15.660</td>\n    </tr>\n    <tr>\n      <td>29</td>\n      <td>4.959319</td>\n      <td>172.258529</td>\n      <td>0.831</td>\n      <td>2.22739</td>\n      <td>9802.0</td>\n      <td>12.21</td>\n      <td>1103</td>\n      <td>349.40</td>\n      <td>696.5</td>\n      <td>5712</td>\n      <td>4.359</td>\n      <td>1.082</td>\n      <td>15.263</td>\n    </tr>\n  </tbody>\n</table>\n</div>"
     },
     "metadata": {},
     "execution_count": 11
    }
   ],
   "source": [
    "X_train.head()"
   ]
  },
  {
   "cell_type": "markdown",
   "metadata": {},
   "source": [
    "# Pre-processing\n",
    "\n",
    "Scale the data using the MinMaxScaler and perform some feature selection"
   ]
  },
  {
   "cell_type": "code",
   "execution_count": 12,
   "metadata": {},
   "outputs": [],
   "source": [
    "# Scale your data\n",
    "from sklearn.preprocessing import MinMaxScaler\n",
    "X_minmax = MinMaxScaler().fit(X_train)\n",
    "\n",
    "X_train_minmax = X_minmax.transform(X_train)\n",
    "X_test_minmax = X_minmax.transform(X_test)"
   ]
  },
  {
   "cell_type": "markdown",
   "metadata": {},
   "source": [
    "# Train The Model"
   ]
  },
  {
   "cell_type": "code",
   "execution_count": 13,
   "metadata": {},
   "outputs": [
    {
     "output_type": "execute_result",
     "data": {
      "text/plain": "LogisticRegression(C=1.0, class_weight=None, dual=False, fit_intercept=True,\n                   intercept_scaling=1, l1_ratio=None, max_iter=100,\n                   multi_class='warn', n_jobs=None, penalty='l2',\n                   random_state=None, solver='warn', tol=0.0001, verbose=0,\n                   warm_start=False)"
     },
     "metadata": {},
     "execution_count": 13
    }
   ],
   "source": [
    "# Create Logistic Regression model\n",
    "from sklearn.linear_model import LogisticRegression\n",
    "classifier = LogisticRegression()\n",
    "classifier"
   ]
  },
  {
   "cell_type": "code",
   "execution_count": 14,
   "metadata": {},
   "outputs": [
    {
     "output_type": "execute_result",
     "data": {
      "text/plain": "LogisticRegression(C=1.0, class_weight=None, dual=False, fit_intercept=True,\n                   intercept_scaling=1, l1_ratio=None, max_iter=100,\n                   multi_class='warn', n_jobs=None, penalty='l2',\n                   random_state=None, solver='warn', tol=0.0001, verbose=0,\n                   warm_start=False)"
     },
     "metadata": {},
     "execution_count": 14
    }
   ],
   "source": [
    "classifier.fit(X_train, y_train)"
   ]
  },
  {
   "cell_type": "code",
   "execution_count": 15,
   "metadata": {},
   "outputs": [
    {
     "output_type": "stream",
     "name": "stdout",
     "text": "Training Data Score: 0.3133702078962426\nTesting Data Score: 0.3318077803203661\n"
    }
   ],
   "source": [
    "print(f\"Training Data Score: {classifier.score(X_train_minmax, y_train)}\")\n",
    "print(f\"Testing Data Score: {classifier.score(X_test_minmax, y_test)}\")"
   ]
  },
  {
   "cell_type": "code",
   "execution_count": 16,
   "metadata": {},
   "outputs": [
    {
     "output_type": "stream",
     "name": "stdout",
     "text": "First 10 Predictions:   [0 0 0 0 0 0 0 0 0 0]\nFirst 10 Actual labels: [0, 0, 0, 0, 0, 1, 0, 0, 0, 0]\n"
    }
   ],
   "source": [
    "predictions = classifier.predict(X_test)\n",
    "print(f\"First 10 Predictions:   {predictions[:10]}\")\n",
    "print(f\"First 10 Actual labels: {y_test[:10].tolist()}\")"
   ]
  },
  {
   "cell_type": "markdown",
   "metadata": {},
   "source": [
    "# Hyperparameter Tuning\n",
    "\n",
    "Use `GridSearchCV` to tune the model's parameters"
   ]
  },
  {
   "cell_type": "code",
   "execution_count": 17,
   "metadata": {},
   "outputs": [
    {
     "output_type": "execute_result",
     "data": {
      "text/plain": "SVC(C=1.0, cache_size=200, class_weight=None, coef0=0.0,\n    decision_function_shape='ovr', degree=3, gamma='auto_deprecated',\n    kernel='linear', max_iter=-1, probability=False, random_state=None,\n    shrinking=True, tol=0.001, verbose=False)"
     },
     "metadata": {},
     "execution_count": 17
    }
   ],
   "source": [
    "# Create the GridSearchCV model\n",
    " # Create the SVC Model\n",
    "from sklearn.svm import SVC \n",
    "model = SVC(kernel='linear')\n",
    "model"
   ]
  },
  {
   "cell_type": "code",
   "execution_count": 18,
   "metadata": {},
   "outputs": [
    {
     "output_type": "stream",
     "name": "stdout",
     "text": "Fitting 3 folds for each of 16 candidates, totalling 48 fits\n[CV] C=1, gamma=0.0001 ...............................................\n[Parallel(n_jobs=1)]: Using backend SequentialBackend with 1 concurrent workers.\n[CV] ................... C=1, gamma=0.0001, score=0.755, total=32.1min\n[CV] C=1, gamma=0.0001 ...............................................\n[Parallel(n_jobs=1)]: Done   1 out of   1 | elapsed: 32.1min remaining:    0.0s\n"
    }
   ],
   "source": [
    "# Train the model with GridSearch\n",
    "from sklearn.model_selection import GridSearchCV\n",
    "param_grid = {'C': [1, 5, 10, 50],\n",
    "              'gamma': [0.0001, 0.0005, 0.001, 0.005]}\n",
    "grid = GridSearchCV(model, param_grid, verbose=3)\n",
    "grid.fit(X_train, y_train)"
   ]
  },
  {
   "cell_type": "code",
   "execution_count": 15,
   "metadata": {},
   "outputs": [
    {
     "output_type": "error",
     "ename": "NameError",
     "evalue": "name 'grid2' is not defined",
     "traceback": [
      "\u001b[1;31m---------------------------------------------------------------------------\u001b[0m",
      "\u001b[1;31mNameError\u001b[0m                                 Traceback (most recent call last)",
      "\u001b[1;32m<ipython-input-15-85e536099331>\u001b[0m in \u001b[0;36m<module>\u001b[1;34m\u001b[0m\n\u001b[1;32m----> 1\u001b[1;33m \u001b[0mprint\u001b[0m\u001b[1;33m(\u001b[0m\u001b[0mgrid2\u001b[0m\u001b[1;33m.\u001b[0m\u001b[0mbest_params_\u001b[0m\u001b[1;33m)\u001b[0m\u001b[1;33m\u001b[0m\u001b[1;33m\u001b[0m\u001b[0m\n\u001b[0m\u001b[0;32m      2\u001b[0m \u001b[0mprint\u001b[0m\u001b[1;33m(\u001b[0m\u001b[0mgrid2\u001b[0m\u001b[1;33m.\u001b[0m\u001b[0mbest_score_\u001b[0m\u001b[1;33m)\u001b[0m\u001b[1;33m\u001b[0m\u001b[1;33m\u001b[0m\u001b[0m\n",
      "\u001b[1;31mNameError\u001b[0m: name 'grid2' is not defined"
     ]
    }
   ],
   "source": [
    "print(grid2.best_params_)\n",
    "print(grid2.best_score_)"
   ]
  },
  {
   "cell_type": "markdown",
   "metadata": {},
   "source": [
    "# Save the Model"
   ]
  },
  {
   "cell_type": "code",
   "execution_count": 16,
   "metadata": {},
   "outputs": [
    {
     "output_type": "error",
     "ename": "NameError",
     "evalue": "name 'your_model' is not defined",
     "traceback": [
      "\u001b[1;31m---------------------------------------------------------------------------\u001b[0m",
      "\u001b[1;31mNameError\u001b[0m                                 Traceback (most recent call last)",
      "\u001b[1;32m<ipython-input-16-7ffc35e2dc82>\u001b[0m in \u001b[0;36m<module>\u001b[1;34m\u001b[0m\n\u001b[0;32m      5\u001b[0m \u001b[1;32mimport\u001b[0m \u001b[0mjoblib\u001b[0m\u001b[1;33m\u001b[0m\u001b[1;33m\u001b[0m\u001b[0m\n\u001b[0;32m      6\u001b[0m \u001b[0mfilename\u001b[0m \u001b[1;33m=\u001b[0m \u001b[1;34m'your_name.sav'\u001b[0m\u001b[1;33m\u001b[0m\u001b[1;33m\u001b[0m\u001b[0m\n\u001b[1;32m----> 7\u001b[1;33m \u001b[0mjoblib\u001b[0m\u001b[1;33m.\u001b[0m\u001b[0mdump\u001b[0m\u001b[1;33m(\u001b[0m\u001b[0myour_model\u001b[0m\u001b[1;33m,\u001b[0m \u001b[0mfilename\u001b[0m\u001b[1;33m)\u001b[0m\u001b[1;33m\u001b[0m\u001b[1;33m\u001b[0m\u001b[0m\n\u001b[0m",
      "\u001b[1;31mNameError\u001b[0m: name 'your_model' is not defined"
     ]
    }
   ],
   "source": [
    "# save your model by updating \"your_name\" with your name\n",
    "# and \"your_model\" with your model variable\n",
    "# be sure to turn this in to BCS\n",
    "# if joblib fails to import, try running the command to install in terminal/git-bash\n",
    "import joblib\n",
    "filename = 'your_name.sav'\n",
    "joblib.dump(your_model, filename)"
   ]
  }
 ],
 "metadata": {
  "kernel_info": {
   "name": "dev"
  },
  "kernelspec": {
   "display_name": "Python 3.7.4 64-bit ('base': conda)",
   "language": "python",
   "name": "python37464bitbaseconda7bc3910bbe4a4c1e89b80bb43883e8bc"
  },
  "language_info": {
   "codemirror_mode": {
    "name": "ipython",
    "version": 3
   },
   "file_extension": ".py",
   "mimetype": "text/x-python",
   "name": "python",
   "nbconvert_exporter": "python",
   "pygments_lexer": "ipython3",
   "version": "3.7.4-final"
  },
  "nteract": {
   "version": "0.12.3"
  }
 },
 "nbformat": 4,
 "nbformat_minor": 2
}